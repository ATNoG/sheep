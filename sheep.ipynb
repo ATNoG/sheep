{
  "cells": [
    {
      "cell_type": "markdown",
      "metadata": {
        "id": "Fed733BJ_uyi"
      },
      "source": [
        "# Sheep behaviour analysis"
      ]
    },
    {
      "cell_type": "code",
      "execution_count": null,
      "metadata": {
        "id": "_KyOnK-6_qjN"
      },
      "outputs": [],
      "source": [
        "%matplotlib inline\n",
        "import math\n",
        "import datetime\n",
        "import statistics\n",
        "import numpy as np\n",
        "import pandas as pd\n",
        "import matplotlib.pyplot as plt\n",
        "import matplotlib.dates as mdates\n",
        "\n",
        "from sklearn import preprocessing\n",
        "\n",
        "from IPython.display import Javascript\n",
        "\n",
        "from tqdm import tqdm"
      ]
    },
    {
      "cell_type": "code",
      "execution_count": null,
      "metadata": {
        "id": "rsoO8-sH_3Si"
      },
      "outputs": [],
      "source": [
        "# download data into a pandas dataframe\n",
        "\n",
        "url = 'https://cloud.hrun.duckdns.org/s/GkAYLCoDY5wE4Qi/download/sheepSleep.csv'\n",
        "df = pd.read_csv(url)"
      ]
    },
    {
      "cell_type": "code",
      "execution_count": null,
      "metadata": {
        "id": "CNWM5xmVBzMg"
      },
      "outputs": [],
      "source": [
        "# clean the dataframe\n",
        "\n",
        "df = df.drop(['Unnamed: 0', 'month', 'year', 'day', 'hour', 'minu', 'sec', 'wd', 'dn'], axis=1)\n",
        "df = df.dropna()\n",
        "df.tail()"
      ]
    },
    {
      "cell_type": "code",
      "execution_count": null,
      "metadata": {
        "id": "G4kRTMaxD4Qu"
      },
      "outputs": [],
      "source": [
        "# remove data from day time\n",
        "df = df.set_index(pd.to_datetime(df['timestamp']))\n",
        "#df = df.drop(['timestamp'], axis=1)\n",
        "df['timestamp'] = pd.to_datetime(df['timestamp'])\n",
        "df = df[(df.index.hour >= 18) | (df.index.hour <= 9)]"
      ]
    },
    {
      "cell_type": "code",
      "execution_count": null,
      "metadata": {
        "id": "A0zVPwq9Gen9"
      },
      "outputs": [],
      "source": [
        "ids = list(df['ID'].unique())\n",
        "ids.sort()\n",
        "print(f'IDs: {ids} ({len(ids)})')"
      ]
    },
    {
      "cell_type": "code",
      "execution_count": null,
      "metadata": {
        "id": "jtjQ9mHrLCmN"
      },
      "outputs": [],
      "source": [
        "display(Javascript('''google.colab.output.setIframeHeight(0, true, {maxHeight: 5000})'''))\n",
        "fig, axs = plt.subplots(1, figsize=(7, 5))\n",
        "plt.rcParams.update({'font.size': 18})\n",
        "df['ID'].value_counts().sort_index().plot.bar(x='Target Value', y='Number of Occurrences')\n",
        "plt.ylabel('Record count')\n",
        "plt.xlabel('Collar ID')\n",
        "plt.show()"
      ]
    },
    {
      "cell_type": "code",
      "execution_count": null,
      "metadata": {
        "id": "LUGmLhkqIoKg"
      },
      "outputs": [],
      "source": [
        "df[(df.ID == ids[0])]"
      ]
    },
    {
      "cell_type": "code",
      "execution_count": null,
      "metadata": {
        "id": "YA4CFoj9Lv3u"
      },
      "outputs": [],
      "source": [
        "df.drop(df.index[df['ID'] == 1], inplace=True)\n",
        "df.drop(df.index[df['ID'] == 5], inplace=True)\n",
        "df.drop(df.index[df['ID'] == 8], inplace=True)\n",
        "df.drop(df.index[df['ID'] == 10], inplace=True)\n",
        "df.drop(df.index[df['ID'] == 15], inplace=True)"
      ]
    },
    {
      "cell_type": "code",
      "execution_count": null,
      "metadata": {
        "id": "RE7wnxv1MoQ5"
      },
      "outputs": [],
      "source": [
        "display(Javascript('''google.colab.output.setIframeHeight(0, true, {maxHeight: 5000})'''))\n",
        "fig, axs = plt.subplots(1, figsize=(7, 5))\n",
        "plt.rcParams.update({'font.size': 18})\n",
        "df['ID'].value_counts().sort_index().plot.bar(x='Target Value', y='Number of Occurrences')\n",
        "plt.ylabel('Record count')\n",
        "plt.xlabel('Collar ID')\n",
        "plt.show()"
      ]
    },
    {
      "cell_type": "code",
      "execution_count": null,
      "metadata": {
        "id": "kyuNzoV9M31A"
      },
      "outputs": [],
      "source": [
        "ids = list(df['ID'].unique())\n",
        "ids.sort()\n",
        "print(f'IDs: {ids} ({len(ids)})')"
      ]
    },
    {
      "cell_type": "code",
      "execution_count": null,
      "metadata": {
        "id": "BCszmkJbRe7F"
      },
      "outputs": [],
      "source": [
        "df['act'] = df.apply(lambda row: math.sqrt(row.Dx**2 + row.Dy**2 + row.Dz**2), axis=1)"
      ]
    },
    {
      "cell_type": "code",
      "execution_count": null,
      "metadata": {
        "id": "rPxwFpGWSYGp"
      },
      "outputs": [],
      "source": [
        "def numpy_ewma_vectorized_v2(data, window):\n",
        "\n",
        "    alpha = 2 /(window + 1.0)\n",
        "    alpha_rev = 1-alpha\n",
        "    n = data.shape[0]\n",
        "\n",
        "    pows = alpha_rev**(np.arange(n+1))\n",
        "\n",
        "    scale_arr = 1/pows[:-1]\n",
        "    offset = data[0]*pows[1:]\n",
        "    pw0 = alpha*alpha_rev**(n-1)\n",
        "\n",
        "    mult = data*pw0*scale_arr\n",
        "    cumsums = mult.cumsum()\n",
        "    out = offset + cumsums*scale_arr[::-1]\n",
        "    return out"
      ]
    },
    {
      "cell_type": "code",
      "execution_count": null,
      "metadata": {
        "id": "tLk4OFxgSuaB"
      },
      "outputs": [],
      "source": [
        "plt.rcParams.update({'font.size': 18})\n",
        "scaler = preprocessing.StandardScaler()\n",
        "\n",
        "df_day = df.loc['2021-12-05 18h00':'2021-12-07']\n",
        "\n",
        "display(Javascript('''google.colab.output.setIframeHeight(0, true, {maxHeight: 5000})'''))\n",
        "fig, axs = plt.subplots(len(ids), figsize=(40, 20), sharex=True)\n",
        "\n",
        "datefmt = mdates.DateFormatter('%H:%M')\n",
        "\n",
        "# for some reason the date added one day\n",
        "\n",
        "start = datetime.datetime(2021,12, 5, 18, 0)\n",
        "end   = datetime.datetime(2021,12, 6, 9, 0)\n",
        "\n",
        "for i in range(len(ids)):\n",
        "  id = ids[i]\n",
        "\n",
        "  x = df_day[(df_day.ID == id)].index.values\n",
        "  \n",
        "  y = df_day[(df_day.ID == id)]['act'].values\n",
        "  y = numpy_ewma_vectorized_v2(y, window=50)\n",
        "  y = scaler.fit_transform(y.reshape(-1,1))\n",
        "\n",
        "  #axs[i].set_yscale('log')\n",
        "  axs[i].plot(x, y, label='ACT')\n",
        "\n",
        "  q2 = np.quantile(y, .4)\n",
        "  q3 = np.quantile(y, .8)\n",
        "\n",
        "  axs[i].axhline(y=q2, color = 'red')\n",
        "  axs[i].axhline(y=q3, color = 'green')\n",
        "\n",
        "  axs[i].xaxis.set_major_locator(mdates.HourLocator(interval=1))\n",
        "  axs[i].xaxis.set_major_formatter(datefmt)\n",
        "\n",
        "  axs[i].set_xlim([start, end])\n",
        "\n",
        "  axs[i].set_title(id, x=-.025, y=.5)\n",
        "#axs[-1].set_xlabel('Time period (hours)')\n",
        "\n",
        "fig.text(0.5, 0.075, 'Time period (hours)', ha='center')\n",
        "fig.text(0.075, 0.5, 'Activity value (after standard normalization)', va='center', rotation='vertical')\n",
        "\n",
        "plt.show()"
      ]
    },
    {
      "cell_type": "code",
      "execution_count": null,
      "metadata": {
        "id": "C-dqmJdBGpbb"
      },
      "outputs": [],
      "source": [
        "plt.rcParams.update({'font.size': 18})\n",
        "scaler = preprocessing.StandardScaler()\n",
        "\n",
        "df_day = df.loc['2021-12-03 18h00':'2021-12-04']\n",
        "\n",
        "display(Javascript('''google.colab.output.setIframeHeight(0, true, {maxHeight: 5000})'''))\n",
        "fig, ax = plt.subplots(1, figsize=(20, 10), sharex=True)\n",
        "\n",
        "datefmt = mdates.DateFormatter('%H:%M')\n",
        "\n",
        "# for some reason the date added one day\n",
        "\n",
        "start = datetime.datetime(2021, 12, 3, 18, 0)\n",
        "end   = datetime.datetime(2021, 12, 4, 9, 0)\n",
        "\n",
        "\n",
        "id = ids[0]\n",
        "\n",
        "x = df_day[(df_day.ID == id)].index.values\n",
        "\n",
        "y = df_day[(df_day.ID == id)]['act'].values\n",
        "y = numpy_ewma_vectorized_v2(y, window=50)\n",
        "y = scaler.fit_transform(y.reshape(-1,1))\n",
        "\n",
        "#axs[i].set_yscale('log')\n",
        "ax.plot(x, y, label='ACT')\n",
        "\n",
        "q2 = np.quantile(y, .4)\n",
        "q3 = np.quantile(y, .8)\n",
        "\n",
        "ax.axhline(y=q2, color = 'red')\n",
        "ax.axhline(y=q3, color = 'green')\n",
        "\n",
        "ax.xaxis.set_major_locator(mdates.HourLocator(interval=1))\n",
        "ax.xaxis.set_major_formatter(datefmt)\n",
        "\n",
        "ax.set_xlim([start, end])\n",
        "\n",
        "ax.set_xlabel('Time period (hours)')\n",
        "ax.set_ylabel('Activity value (after standard normalization)')\n",
        "\n",
        "plt.show()"
      ]
    },
    {
      "cell_type": "markdown",
      "metadata": {
        "id": "BP29Ha3fN0yk"
      },
      "source": [
        "# Dataset analysis"
      ]
    },
    {
      "cell_type": "code",
      "source": [
        "# Create the Rolling Dataframe\n",
        "\n",
        "scaler = preprocessing.StandardScaler()\n",
        "\n",
        "rolling_dataframes = {}\n",
        "\n",
        "tmp_list=[0]\n",
        "\n",
        "# For each sheep\n",
        "for i in tqdm(range(len(ids))):\n",
        "#for i in tqdm(tmp_list):\n",
        "  id = ids[i]\n",
        "  df_sheep = df.loc[df['ID'] == id]\n",
        "  rolling_dataframes[id] = []\n",
        "\n",
        "  start_date = df_sheep.index.min()\n",
        "  end_date = df_sheep.index.max()\n",
        "\n",
        "  #start_date = datetime.datetime(2021,12, 7, 18, 0)\n",
        "  #end_date   = datetime.datetime(2021,12, 8, 9, 0)\n",
        "\n",
        "  #print(f'{id} [{start_date} {end_date}]')\n",
        "\n",
        "  begin = start_date\n",
        "  end = datetime.datetime(begin.year, begin.month, begin.day+1, 9, 0)\n",
        "\n",
        "  # For each Night\n",
        "  while end <= end_date:\n",
        "    mask = (df['timestamp'] > begin) & (df['timestamp'] <= end)\n",
        "    df_sheep_night = df.loc[mask]\n",
        "\n",
        "    begin = begin + datetime.timedelta(days=1)\n",
        "    end = end + datetime.timedelta(days=1)\n",
        "\n",
        "    df_results = pd.DataFrame()\n",
        "\n",
        "    df_results['act_5'] = df_sheep_night['act'].ewm(span=50, adjust=False).mean()\n",
        "    df_results['dist_5'] = df_sheep_night['Dist'].ewm(span=50, adjust=False).mean()\n",
        "    df_results['roll_5'] = df_sheep_night['Roll'].rolling(50).mean()\n",
        "\n",
        "    if not df_results.empty:\n",
        "      y =  df_results['act_5'].values\n",
        "      df_results['act_5'] = scaler.fit_transform(y.reshape(-1,1))\n",
        "      rolling_dataframes[id].append(df_results)"
      ],
      "metadata": {
        "id": "ElojSViFRJNs"
      },
      "execution_count": null,
      "outputs": []
    },
    {
      "cell_type": "code",
      "source": [
        "# Create the State Dataframe\n",
        "\n",
        "state_dataframe = {}\n",
        "\n",
        "# For each sheep\n",
        "for i in tqdm(range(len(ids))):\n",
        "#for i in tqdm(tmp_list):\n",
        "  id = ids[i]\n",
        "  state_dataframe[id] = []\n",
        "\n",
        "  nights = rolling_dataframes[id]\n",
        "  for night in nights:\n",
        "    t_sleep = np.quantile(night['act_5'], .4)\n",
        "    t_active = np.quantile(night['act_5'], .8)\n",
        "    df_results = pd.DataFrame()\n",
        "    df_results['state'] = night.apply(lambda row: 'sleep' if row.act_5 <= t_sleep else 'active' if row.act_5 >= t_active else 'noise', axis=1)\n",
        "    df_results['side'] = night.apply(lambda row: 'right' if row.roll_5 >=10  else 'left' if row.roll_5 <-10 else 'center', axis=1)\n",
        "    if not df_results.empty:\n",
        "      state_dataframe[id].append(df_results)"
      ],
      "metadata": {
        "id": "NFcwL7PIU41i"
      },
      "execution_count": null,
      "outputs": []
    },
    {
      "cell_type": "code",
      "source": [
        "# Smooth the State Dataframe\n",
        "\n",
        "HW = 100\n",
        "\n",
        "for i in tqdm(range(len(ids))):\n",
        "#for i in tqdm(tmp_list):\n",
        "  id = ids[i]\n",
        "  nights = state_dataframe[id]\n",
        "  for night in nights:\n",
        "    state = night['state'].to_list()\n",
        "\n",
        "    for i in range(HW, len(state)-HW):\n",
        "      window = state[i-HW:i+HW]\n",
        "      if window[0] == window[-1]:\n",
        "        state[i-HW:i+HW] = [window[0]]*(2*HW)\n",
        "    night['state'] = state"
      ],
      "metadata": {
        "id": "lSwfb2ntbdtS"
      },
      "execution_count": null,
      "outputs": []
    },
    {
      "cell_type": "code",
      "source": [
        "# Get the stats from the state\n",
        "\n",
        "sleep_time = {}\n",
        "active_time = {}\n",
        "get_up = {}\n",
        "sleep_side = {}\n",
        "\n",
        "sleep_time_night = {}\n",
        "active_time_night = {}\n",
        "\n",
        "for i in tqdm(range(len(ids))):\n",
        "#for i in tqdm(tmp_list):\n",
        "  id = ids[i]\n",
        "  nights = state_dataframe[id]\n",
        "\n",
        "  # create the empty list for each sheep\n",
        "  sleep_time[id] = []\n",
        "  active_time[id] = []\n",
        "  \n",
        "  sleep_time_night[id] = []\n",
        "  active_time_night[id] = []\n",
        "  \n",
        "  get_up[id] = []\n",
        "  sleep_side[id] = {'left':[],'center':[],'right':[]}\n",
        "\n",
        "  for night in nights:\n",
        "    night_get_up = 0\n",
        "    side_left = 0\n",
        "    side_center = 0\n",
        "    side_right = 0\n",
        "\n",
        "    total_night_sleep = 0\n",
        "    total_night_active = 0\n",
        "    \n",
        "    state = night['state'].to_list()\n",
        "    side = night['side'].to_list()\n",
        "    timestamp = night.index.to_list()\n",
        "    \n",
        "    sleep_idx = 0\n",
        "    active_idx = 0\n",
        "\n",
        "    # skip all until the first sleep state\n",
        "    for idx in range(0, len(state)):\n",
        "      if state[idx] == 'sleep':\n",
        "        break\n",
        "    \n",
        "    tmp_side = []\n",
        "    \n",
        "    for j in range(idx+1,len(state)):\n",
        "      if state[j-1] == state[j]:\n",
        "          # same state\n",
        "          if state[j] == 'sleep':\n",
        "            \n",
        "            side_duration = (timestamp[j] - timestamp[j-1]).total_seconds() / 60\n",
        "            if side[j] == 'left':\n",
        "              side_left += side_duration\n",
        "              tmp_side.append('left')\n",
        "            elif side[j] == 'right':\n",
        "              side_right += side_duration\n",
        "              tmp_side.append('right')\n",
        "            else:\n",
        "              tmp_side.append('center')\n",
        "              side_center += side_duration\n",
        "            \n",
        "            if sleep_idx == 0:\n",
        "              sleep_idx = j\n",
        "          \n",
        "          if state[j] == 'active' and active_idx == 0:\n",
        "            active_idx = j\n",
        "      else:\n",
        "          # change state\n",
        "          if state[j-1] == 'sleep':\n",
        "            duration = (timestamp[j] - timestamp[sleep_idx]).total_seconds() / 60\n",
        "            sleep_time[id].append(duration)\n",
        "            total_night_sleep += duration\n",
        "            night_get_up += 1\n",
        "          if state[j-1] == 'active':\n",
        "            duration = (timestamp[j] - timestamp[active_idx]).total_seconds() / 60\n",
        "            active_time[id].append(duration)\n",
        "            total_night_active += duration\n",
        "          sleep_idx = 0\n",
        "          active_idx = 0\n",
        "    get_up[id].append(night_get_up)\n",
        "    sleep_side[id]['left'].append(side_left)\n",
        "    sleep_side[id]['center'].append(side_center)\n",
        "    sleep_side[id]['right'].append(side_right)\n",
        "\n",
        "    sleep_time_night[id].append(total_night_sleep)\n",
        "    active_time_night[id].append(total_night_active)\n",
        "\n",
        "\n",
        "    #print(f'Left {tmp_side.count(\"left\")} Center {tmp_side.count(\"center\")} Right {tmp_side.count(\"right\")}')\n",
        "    #print(f'{sleep_side[id][\"left\"][-1]} {sleep_side[id][\"center\"][-1]} {sleep_side[id][\"right\"][-1]}')"
      ],
      "metadata": {
        "id": "GDCKJwLWmAJi"
      },
      "execution_count": null,
      "outputs": []
    },
    {
      "cell_type": "code",
      "source": [
        "print(f'Per Cycle')\n",
        "print(f' ID |      sleep     |      active')\n",
        "\n",
        "for i in range(len(ids)):\n",
        "#for i in tmp_list:\n",
        "  id = ids[i]\n",
        "  sheep_sleep_time = sleep_time[id]\n",
        "  sleep_duration_median = statistics.median(sheep_sleep_time)\n",
        "  \n",
        "  sheep_active_time = active_time[id]\n",
        "  active_duration_median = statistics.median(sheep_active_time)\n",
        "\n",
        "  mad_sleep = statistics.median([abs(number-sleep_duration_median) for number in sheep_sleep_time])\n",
        "  mad_active = statistics.median([abs(number-active_duration_median) for number in sheep_active_time])\n",
        "\n",
        "  print(f'{id:>3} | {round(sleep_duration_median, 2):>4} ± {round(mad_sleep,2):>6} | {round(active_duration_median, 2):>4} ± {round(mad_active, 2):>6} ')"
      ],
      "metadata": {
        "id": "enBoAX3mou7m"
      },
      "execution_count": null,
      "outputs": []
    },
    {
      "cell_type": "code",
      "source": [
        "print(f'Per Night')\n",
        "print(f' ID |      sleep     |      active')\n",
        "\n",
        "for i in range(len(ids)):\n",
        "  id = ids[i]\n",
        "  sheep_sleep_time = sleep_time_night[id]\n",
        "  sleep_duration_median = statistics.median(sheep_sleep_time)\n",
        "  \n",
        "  sheep_active_time = active_time_night[id]\n",
        "  active_duration_median = statistics.median(sheep_active_time)\n",
        "\n",
        "  mad_sleep = statistics.median([abs(number-sleep_duration_median) for number in sheep_sleep_time])\n",
        "  mad_active = statistics.median([abs(number-active_duration_median) for number in sheep_active_time])\n",
        "\n",
        "  print(f'{id:>3} | {round(sleep_duration_median, 2):>4} ± {round(mad_sleep,2):>6} | {round(active_duration_median, 2):>4} ± {round(mad_active, 2):>6} ')"
      ],
      "metadata": {
        "id": "1qx1bp0BLNno"
      },
      "execution_count": null,
      "outputs": []
    },
    {
      "cell_type": "code",
      "source": [
        "print(f' ID | get-up')\n",
        "\n",
        "for i in range(len(ids)):\n",
        "#for i in tmp_list:\n",
        "  id = ids[i]\n",
        "  sheep_get_up = get_up[id]\n",
        "  sheep_get_up_median = statistics.median(sheep_get_up)\n",
        "  mad_get_up = statistics.median([abs(number-sheep_get_up_median) for number in sheep_get_up])\n",
        "  \n",
        "  print(f'{id:>3} | {round(sheep_get_up_median, 2):<3} ± {round(mad_get_up,2):<3}')"
      ],
      "metadata": {
        "id": "DXz7dtz01BLQ"
      },
      "execution_count": null,
      "outputs": []
    },
    {
      "cell_type": "code",
      "source": [
        "print(f' ID |     left   center    right')\n",
        "\n",
        "for i in range(len(ids)):\n",
        "#for i in tmp_list:\n",
        "  id = ids[i]\n",
        "  side_left = np.sum(sleep_side[id]['left'])\n",
        "  side_center = np.sum(sleep_side[id]['center'])\n",
        "  side_right = np.sum(sleep_side[id]['right'])\n",
        "  print(f'{id:>3} | {round(side_left, 2):>8} {round(side_center,2):>8} {round(side_right, 2):>8}')"
      ],
      "metadata": {
        "id": "3y3sIGE56L5i"
      },
      "execution_count": null,
      "outputs": []
    },
    {
      "cell_type": "markdown",
      "source": [
        "## Plot Activity per night"
      ],
      "metadata": {
        "id": "PFLM-rhjbCCs"
      }
    },
    {
      "cell_type": "code",
      "source": [
        "scaler = preprocessing.StandardScaler()\n",
        "\n",
        "# Select the relevant day\n",
        "df_day = df.loc['2021-12-05 18h00':'2021-12-07']\n",
        "\n",
        "# Create the Rolling Dataframe\n",
        "rolling_dataframes = {}\n",
        "\n",
        "for i in tqdm(range(len(ids))):\n",
        "  id = ids[i]\n",
        "  df_sheep_night = df_day.loc[df_day['ID'] == id]\n",
        "  df_rolling = pd.DataFrame()\n",
        "  df_rolling['act_5'] = df_sheep_night['act'].ewm(span=50, adjust=False).mean()\n",
        "  y =  df_rolling['act_5'].values\n",
        "  df_rolling['act_5'] = scaler.fit_transform(y.reshape(-1,1))\n",
        "  rolling_dataframes[id] = df_rolling\n",
        "\n",
        "# Create the State Dataframe\n",
        "state_dataframe = {}\n",
        "\n",
        "for i in tqdm(range(len(ids))):\n",
        "  id = ids[i]\n",
        "\n",
        "  night = rolling_dataframes[id]\n",
        "  \n",
        "  t_sleep = np.quantile(night['act_5'], .4)\n",
        "  t_active = np.quantile(night['act_5'], .8)\n",
        "  df_results = pd.DataFrame()\n",
        "  df_results['state'] = night.apply(lambda row: 'sleep' if row.act_5 <= t_sleep else 'active' if row.act_5 >= t_active else 'noise', axis=1)\n",
        "  state_dataframe[id] = df_results\n",
        "\n",
        "\n",
        "# Smooth the State Dataframe\n",
        "\n",
        "HW = 15\n",
        "\n",
        "for i in tqdm(range(len(ids))):\n",
        "#for i in tqdm(tmp_list):\n",
        "  id = ids[i]\n",
        "  night = state_dataframe[id]\n",
        "  state = night['state'].to_list()\n",
        "  for i in range(HW, len(state)-HW):\n",
        "    window = state[i-HW:i+HW]\n",
        "    if window[0] == window[-1]:\n",
        "      state[i-HW:i+HW] = [window[0]]*(2*HW)\n",
        "  night['state'] = state\n",
        "\n",
        "\n",
        "data = np.zeros((10, 60))\n",
        "\n",
        "# Gather the stats for plotting\n",
        "for i in tqdm(range(len(ids))):\n",
        "  id = ids[i]\n",
        "  df_sheep_night = state_dataframe[id]\n",
        "\n",
        "  df_sheep_night.reset_index(inplace=True)\n",
        "  df_sheep_night = df_sheep_night.rename(columns = {'index':'timestamp'})\n",
        "\n",
        "  begin = datetime.datetime(2021, 12, 5, 18, 0)\n",
        "  end_date  = datetime.datetime(2021, 12, 6, 9, 0)\n",
        "  end = begin + datetime.timedelta(minutes=15)\n",
        "\n",
        "  for j in range(60):\n",
        "    sleep = 0\n",
        "    active = 0\n",
        "    half_active = 0\n",
        "    \n",
        "    mask = (df_sheep_night['timestamp'] > begin) & (df_sheep_night['timestamp'] <= end)\n",
        "    df_sheep_night_hour = df_sheep_night.loc[mask]\n",
        "    states = df_sheep_night_hour['state'].to_list()\n",
        "    timestamps = df_sheep_night_hour['timestamp'].to_list()\n",
        "    \n",
        "    for k in range(1, len(states)):\n",
        "      duration = (timestamps[k]-timestamps[k-1]).total_seconds() / 60\n",
        "      if states[k] == 'active':\n",
        "        active += duration\n",
        "      elif states[k] == 'sleep':\n",
        "        sleep += duration\n",
        "      else:\n",
        "        half_active += duration\n",
        "\n",
        "    if sleep > active and sleep > half_active:\n",
        "      data[i][j] = 0.0\n",
        "    elif active > sleep and active > half_active:\n",
        "      data[i][j] = 1.0\n",
        "    else:\n",
        "      data[i][j] = 0.5\n",
        "    \n",
        "    #if (active+half_active+sleep) == 0:\n",
        "    #  data[i][j] = 0.5\n",
        "    #else:\n",
        "    #  data[i][j] = active/(active+half_active+sleep)\n",
        "    \n",
        "    end = end + datetime.timedelta(minutes=15)\n",
        "\n",
        "\n",
        "# Generate the times for the plot\n",
        "begin = datetime.datetime(2021, 12, 5, 18, 0)\n",
        "times = []\n",
        "for j in range(60):\n",
        "  times.append(begin.strftime('%H:%M'))\n",
        "  begin = begin + datetime.timedelta(minutes=15)"
      ],
      "metadata": {
        "id": "BwGIb1RsbBRU"
      },
      "execution_count": null,
      "outputs": []
    },
    {
      "cell_type": "code",
      "source": [
        "display(Javascript('''google.colab.output.setIframeHeight(0, true, {maxHeight: 5000})'''))\n",
        "fig, ax = plt.subplots(1, figsize=(30, 20), sharex=True)\n",
        "\n",
        "ax.imshow(data, cmap='coolwarm', aspect='auto')\n",
        "\n",
        "# Show all ticks and label them with the respective list entries\n",
        "ax.set_yticks(np.arange(len(ids)))\n",
        "ax.set_xticks(np.arange(len(times)))\n",
        "ax.set_yticklabels(ids)\n",
        "ax.set_xticklabels(times)\n",
        "ax.set_xlabel('Time period (quarter of hour)')\n",
        "ax.set_ylabel('Collar ID')\n",
        "plt.setp(ax.get_xticklabels(), rotation=45, ha=\"right\", rotation_mode=\"anchor\")\n",
        "plt.show()"
      ],
      "metadata": {
        "id": "BpLL7JIVduI6"
      },
      "execution_count": null,
      "outputs": []
    },
    {
      "cell_type": "markdown",
      "source": [
        "## Debug visualisation"
      ],
      "metadata": {
        "id": "KP2Amlb2ZjJ0"
      }
    },
    {
      "cell_type": "code",
      "source": [
        "# Plot data for debug\n",
        "plt.rcParams.update({'font.size': 18})\n",
        "scaler = preprocessing.StandardScaler()\n",
        "\n",
        "df_day = df.loc['2021-12-06 18h00':'2021-12-08']\n",
        "\n",
        "display(Javascript('''google.colab.output.setIframeHeight(0, true, {maxHeight: 5000})'''))\n",
        "fig, ax = plt.subplots(1, figsize=(40, 20), sharex=True)\n",
        "\n",
        "datefmt = mdates.DateFormatter('%H:%M')\n",
        "\n",
        "# for some reason the date added one day\n",
        "\n",
        "start = datetime.datetime(2021,12, 7, 18, 0)\n",
        "end   = datetime.datetime(2021,12, 8, 9, 0)\n",
        "\n",
        "\n",
        "id = ids[0]\n",
        "\n",
        "x = df_day[(df_day.ID == id)].index.values\n",
        "\n",
        "y = df_day[(df_day.ID == id)]['act'].values\n",
        "y = numpy_ewma_vectorized_v2(y, window=50)\n",
        "y = scaler.fit_transform(y.reshape(-1,1))\n",
        "\n",
        "#axs[i].set_yscale('log')\n",
        "ax.plot(x, y, label='ACT')\n",
        "\n",
        "q2 = np.quantile(y, .4)\n",
        "q3 = np.quantile(y, .75)\n",
        "\n",
        "ax.axhline(y=q2, color = 'red')\n",
        "ax.axhline(y=q3, color = 'green')\n",
        "\n",
        "ax.xaxis.set_major_locator(mdates.HourLocator(interval=1))\n",
        "ax.xaxis.set_major_formatter(datefmt)\n",
        "\n",
        "ax.set_xlim([start, end])\n",
        "\n",
        "debug_dataframe = state_dataframe[2][0]\n",
        "\n",
        "debug_dataframe['state_plot'] = debug_dataframe.apply(lambda row: 0 if row.state == 'sleep' else 2 if row.state == 'active' else 1, axis=1)\n",
        "debug_dataframe.plot(kind='line', y='state_plot', use_index=True, figsize=(40, 20))\n",
        "plt.show()"
      ],
      "metadata": {
        "id": "p125oo0qvHE_"
      },
      "execution_count": null,
      "outputs": []
    }
  ],
  "metadata": {
    "colab": {
      "collapsed_sections": [],
      "provenance": []
    },
    "kernelspec": {
      "display_name": "Python 3",
      "name": "python3"
    },
    "language_info": {
      "name": "python"
    }
  },
  "nbformat": 4,
  "nbformat_minor": 0
}